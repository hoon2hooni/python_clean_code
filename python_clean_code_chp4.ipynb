{
 "cells": [
  {
   "cell_type": "markdown",
   "metadata": {},
   "source": [
    "# 너무 많은 책임을 가진 클랙스\n"
   ]
  },
  {
   "cell_type": "code",
   "execution_count": 1,
   "metadata": {},
   "outputs": [],
   "source": [
    "class SystemMonitor:\n",
    "    def load_activity(self):\n",
    "        \"\"\"소스에서 처리할 이벤트를 가져오기\"\"\"\n",
    "    \n",
    "    def identify_events(self):\n",
    "        \"\"\"가져온 데이터를 파싱하여 도메인 객체 이벤트로 변환\"\"\"\n",
    "\n",
    "    def stream_events(self):\n",
    "        \"\"\"파싱한 이벤트를 외부 에이전트로 전송\"\"\"\n",
    "    "
   ]
  },
  {
   "cell_type": "code",
   "execution_count": 9,
   "metadata": {},
   "outputs": [],
   "source": [
    "class Event:\n",
    "    def __init__(self, raw_data):\n",
    "        self.raw_data = raw_data\n",
    "    \n",
    "class UnKnownEvent(Event):\n",
    "    \"\"\"데이터만으로 식별할 수 없는 이벤트\"\"\"\n",
    "\n",
    "class LoginEvent(Event):\n",
    "    \"\"\"로그인 사용자에 의한 이벤트 \"\"\"\n",
    "\n",
    "class LogoutEvent(Event):\n",
    "    \"\"\"로그아웃 사용자에 의한 이벤트\"\"\"\n",
    "    \n",
    "class SystemMonitor:\n",
    "    \"\"\"시스템에서 발생한 이벤트 분류\"\"\"\n",
    "    \n",
    "    def __init__(self, event_data):\n",
    "        self.event_data = event_data\n",
    "    \n",
    "    def identify_event(self):\n",
    "        if (\n",
    "            self.event_data[\"before\"][\"session\"] == 0 \n",
    "            and self.event_data[\"after\"][\"session\"] == 1\n",
    "        ):\n",
    "            return LoginEvent(self.event_data)\n",
    "    \n",
    "        elif (\n",
    "            self.event_data[\"before\"][\"session\"] == 1\n",
    "            and self.event_data[\"after\"][\"session\"] == 0\n",
    "        ):\n",
    "            return LogoutEvent(self.event_data)\n",
    "        \n",
    "        return UnKnownEvent(self.event_data)"
   ]
  },
  {
   "cell_type": "code",
   "execution_count": 10,
   "metadata": {},
   "outputs": [],
   "source": [
    "l1 = SystemMonitor({\"before\": {\"session\": 0}, \"after\": {\"session\": 1}})"
   ]
  },
  {
   "cell_type": "code",
   "execution_count": 11,
   "metadata": {},
   "outputs": [
    {
     "data": {
      "text/plain": [
       "'LoginEvent'"
      ]
     },
     "execution_count": 11,
     "metadata": {},
     "output_type": "execute_result"
    }
   ],
   "source": [
    "l1.identify_event().__class__.__name__"
   ]
  },
  {
   "cell_type": "code",
   "execution_count": 12,
   "metadata": {},
   "outputs": [
    {
     "data": {
      "text/plain": [
       "'LogoutEvent'"
      ]
     },
     "execution_count": 12,
     "metadata": {},
     "output_type": "execute_result"
    }
   ],
   "source": [
    "l2 = SystemMonitor({\"before\": {\"session\": 1}, \"after\": {\"session\": 0}})\n",
    "l2.identify_event().__class__.__name__"
   ]
  },
  {
   "cell_type": "code",
   "execution_count": 13,
   "metadata": {},
   "outputs": [
    {
     "data": {
      "text/plain": [
       "'UnKnownEvent'"
      ]
     },
     "execution_count": 13,
     "metadata": {},
     "output_type": "execute_result"
    }
   ],
   "source": [
    "l3 = SystemMonitor({\"before\": {\"session\": 0}, \"after\": {\"session\": 0}})\n",
    "l3.identify_event().__class__.__name__"
   ]
  },
  {
   "cell_type": "code",
   "execution_count": 52,
   "metadata": {},
   "outputs": [],
   "source": [
    "class Event:\n",
    "    def __init__(self, raw_data):\n",
    "        self.raw_data = raw_data\n",
    "    \n",
    "    @staticmethod\n",
    "    def meets_condition(event_data: dict):\n",
    "        return False\n",
    "    \n",
    "class UnknownEvent(Event):\n",
    "    \"\"\"데이터만으로 식별할 수 없는 이벤트\"\"\"\n",
    "    \n",
    "class LoginEvent(Event):\n",
    "    @staticmethod\n",
    "    def meets_condition(event_data: dict):\n",
    "        return (\n",
    "            event_data[\"before\"][\"session\"] == 0\n",
    "            and event_data[\"after\"][\"session\"] == 1\n",
    "        )\n",
    "    \n",
    "class LogoutEvent(Event):\n",
    "    @staticmethod\n",
    "    def meets_condition(event_data: dict):\n",
    "        return (\n",
    "            event_data[\"before\"][\"session\"] == 1\n",
    "            and event_data[\"after\"][\"session\"] == 0\n",
    "        )\n",
    "class TransactionEvent(Event):\n",
    "    @staticmethod\n",
    "    def meets_condition(event_data: dict):\n",
    "        return event_data[\"after\"].get(\"transaction\") is not None\n",
    "\n",
    "class SystemMonitor:\n",
    "    \"\"\"시스템에서 발생한 이벤트 분류\"\"\"\n",
    "    def __init__(self, event_data):\n",
    "        self.event_data = event_data\n",
    "        \n",
    "    def identify_event(self):\n",
    "        for event_cls in Event.__subclasses__():\n",
    "            try:\n",
    "                if event_cls.meets_condition(self.event_data):\n",
    "                    return event_cls(self.event_data)\n",
    "            except KeyError:\n",
    "                    continue\n",
    "            \n",
    "        return UnKnownEvent(self.event_data)\n",
    "    "
   ]
  },
  {
   "cell_type": "code",
   "execution_count": 58,
   "metadata": {},
   "outputs": [],
   "source": [
    "l1 = SystemMonitor({\"before\": {\"session\": 0}, \"after\": {\"transaction\": 1}})"
   ]
  },
  {
   "cell_type": "code",
   "execution_count": 59,
   "metadata": {},
   "outputs": [
    {
     "data": {
      "text/plain": [
       "'TransactionEvent'"
      ]
     },
     "execution_count": 59,
     "metadata": {},
     "output_type": "execute_result"
    }
   ],
   "source": [
    "l1.identify_event().__class__.__name__"
   ]
  },
  {
   "cell_type": "code",
   "execution_count": 57,
   "metadata": {},
   "outputs": [
    {
     "data": {
      "text/plain": [
       "2"
      ]
     },
     "execution_count": 57,
     "metadata": {},
     "output_type": "execute_result"
    }
   ],
   "source": [
    "k[\"after\"].get(\"transactioin\",2)"
   ]
  },
  {
   "cell_type": "code",
   "execution_count": 39,
   "metadata": {},
   "outputs": [],
   "source": [
    "a = UnknownEvent(\"Adfadf\")"
   ]
  },
  {
   "cell_type": "code",
   "execution_count": 41,
   "metadata": {},
   "outputs": [
    {
     "data": {
      "text/plain": [
       "['__class__',\n",
       " '__delattr__',\n",
       " '__dict__',\n",
       " '__dir__',\n",
       " '__doc__',\n",
       " '__eq__',\n",
       " '__format__',\n",
       " '__ge__',\n",
       " '__getattribute__',\n",
       " '__gt__',\n",
       " '__hash__',\n",
       " '__init__',\n",
       " '__init_subclass__',\n",
       " '__le__',\n",
       " '__lt__',\n",
       " '__module__',\n",
       " '__ne__',\n",
       " '__new__',\n",
       " '__reduce__',\n",
       " '__reduce_ex__',\n",
       " '__repr__',\n",
       " '__setattr__',\n",
       " '__sizeof__',\n",
       " '__str__',\n",
       " '__subclasshook__',\n",
       " '__weakref__',\n",
       " 'meets_condtion',\n",
       " 'raw_data']"
      ]
     },
     "execution_count": 41,
     "metadata": {},
     "output_type": "execute_result"
    }
   ],
   "source": [
    "dir(a)"
   ]
  },
  {
   "cell_type": "code",
   "execution_count": null,
   "metadata": {},
   "outputs": [],
   "source": []
  }
 ],
 "metadata": {
  "kernelspec": {
   "display_name": "Python 3",
   "language": "python",
   "name": "python3"
  },
  "language_info": {
   "codemirror_mode": {
    "name": "ipython",
    "version": 3
   },
   "file_extension": ".py",
   "mimetype": "text/x-python",
   "name": "python",
   "nbconvert_exporter": "python",
   "pygments_lexer": "ipython3",
   "version": "3.8.5"
  }
 },
 "nbformat": 4,
 "nbformat_minor": 4
}
