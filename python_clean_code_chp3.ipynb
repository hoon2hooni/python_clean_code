{
 "cells": [
  {
   "cell_type": "code",
   "execution_count": 1,
   "metadata": {},
   "outputs": [],
   "source": [
    "class DataTransport:\n",
    "    \"\"\"다른 레베렐에서 예외를 처리하는 개체의 예\"\"\"\n",
    "    \n",
    "    retry_threshold: int = 5\n",
    "    retry_n_times: int = 3\n",
    "    \n",
    "    def __init__(self, connector):\n",
    "        self._connector = connector\n",
    "        self.connection = None\n",
    "    \n",
    "    def deliver_event(self, event):\n",
    "        try:\n",
    "            self.connect()\n",
    "            data = event.decode()\n",
    "            self.send(data)\n",
    "        except ConnectionError as e:\n",
    "            logger.info(\"연결 실패: %s\", e)\n",
    "            raise\n",
    "        except ValueError as e:\n",
    "            logger.error(\"%r 잘못된 데이터 포함: %s\", event, e)\n",
    "            raise\n",
    "    \n",
    "    def connect(self):\n",
    "        for _ in range(self.retry_n_times):\n",
    "            try:\n",
    "                self.connection = self._connector.connect()\n",
    "            except ConnectionError as e:\n",
    "                logger.info(\n",
    "                    \"%s: 새로운 여결 시도 %is\",\n",
    "                    e,\n",
    "                    self.retry_threshold,\n",
    "                )\n",
    "                time.sleep(self.retry_threshold)\n",
    "            else:\n",
    "                return self.connection\n",
    "        raise ConnectionError(\n",
    "            f\"{self.retry_n_times} 번째 재시도 연결 실패\"\n",
    "        )\n",
    "    \n",
    "    def send(self, data):\n",
    "        return self.connection.send(data)"
   ]
  },
  {
   "cell_type": "code",
   "execution_count": 2,
   "metadata": {},
   "outputs": [],
   "source": [
    "def process_student_list(students):\n",
    "    #중간 생략\n",
    "    \n",
    "    students_ranking = sorted(\n",
    "        students, key = lambda s: s.passed * 11 - s.failed * 5 - s.years * 2\n",
    "    )\n",
    "    for student in students_ranking:\n",
    "        print(\n",
    "            \"이름: {0}, 점수: {1}\".format(\n",
    "            student.name,\n",
    "            (student.passed * 11 - studetns.failed * 5 - student.years *2),\n",
    "            )\n",
    "    )\n",
    "        "
   ]
  },
  {
   "cell_type": "code",
   "execution_count": 3,
   "metadata": {},
   "outputs": [],
   "source": [
    "def score_for_students(student):\n",
    "    return student.passed * 11 - studetns.failed * 5 - student.years *2\n",
    "\n",
    "def process_student_list(students):\n",
    "    #중간 생략\n",
    "    \n",
    "    students_ranking = sorted(\n",
    "        students, key = score_for_students\n",
    "    )\n",
    "    for student in students_ranking:\n",
    "        print(\n",
    "            \"이름: {0}, 점수: {1}\".format(\n",
    "            student.name, score_for_students(student)\n",
    "            )\n",
    "    )\n",
    "        "
   ]
  },
  {
   "cell_type": "code",
   "execution_count": null,
   "metadata": {},
   "outputs": [],
   "source": []
  }
 ],
 "metadata": {
  "kernelspec": {
   "display_name": "Python 3",
   "language": "python",
   "name": "python3"
  },
  "language_info": {
   "codemirror_mode": {
    "name": "ipython",
    "version": 3
   },
   "file_extension": ".py",
   "mimetype": "text/x-python",
   "name": "python",
   "nbconvert_exporter": "python",
   "pygments_lexer": "ipython3",
   "version": "3.8.5"
  }
 },
 "nbformat": 4,
 "nbformat_minor": 4
}
